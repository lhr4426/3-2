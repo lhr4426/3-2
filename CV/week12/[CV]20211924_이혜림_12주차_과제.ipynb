{
  "cells": [
    {
      "cell_type": "code",
      "execution_count": 1,
      "metadata": {
        "id": "Is0vNAZeAjsG"
      },
      "outputs": [],
      "source": [
        "import torch\n",
        "import torchvision\n",
        "import torchvision.transforms as transforms"
      ]
    },
    {
      "cell_type": "code",
      "execution_count": 2,
      "metadata": {
        "id": "ql9-lYZsAwxb",
        "colab": {
          "base_uri": "https://localhost:8080/"
        },
        "outputId": "d97138e9-5d90-40cc-eb7d-57774a17cf79"
      },
      "outputs": [
        {
          "output_type": "stream",
          "name": "stdout",
          "text": [
            "Downloading https://www.cs.toronto.edu/~kriz/cifar-10-python.tar.gz to ./data/cifar-10-python.tar.gz\n"
          ]
        },
        {
          "output_type": "stream",
          "name": "stderr",
          "text": [
            "100%|██████████| 170498071/170498071 [00:02<00:00, 80439336.22it/s]\n"
          ]
        },
        {
          "output_type": "stream",
          "name": "stdout",
          "text": [
            "Extracting ./data/cifar-10-python.tar.gz to ./data\n",
            "Files already downloaded and verified\n"
          ]
        }
      ],
      "source": [
        "# CIFAR 데이터셋 다운 및 로드\n",
        "\n",
        "transform = transforms.Compose(\n",
        "    [transforms.ToTensor()])\n",
        "\n",
        "\n",
        "batch_size = 4\n",
        "\n",
        "cifar_trainset = torchvision.datasets.CIFAR10(root='./data', train=True,\n",
        "                                        download=True, transform=transform)\n",
        "cifar_trainloader = torch.utils.data.DataLoader(cifar_trainset, batch_size=batch_size,\n",
        "                                          shuffle=True, num_workers=2)\n",
        "\n",
        "cifar_testset = torchvision.datasets.CIFAR10(root='./data', train=False,\n",
        "                                       download=True, transform=transform)\n",
        "cifar_testloader = torch.utils.data.DataLoader(cifar_testset, batch_size=batch_size,\n",
        "                                         shuffle=False, num_workers=2)\n",
        "\n",
        "cifar_classes = ('plane', 'car', 'bird', 'cat',\n",
        "           'deer', 'dog', 'frog', 'horse', 'ship', 'truck')"
      ]
    },
    {
      "cell_type": "code",
      "execution_count": 3,
      "metadata": {
        "id": "GGGAv0UmAyl8",
        "colab": {
          "base_uri": "https://localhost:8080/",
          "height": 229
        },
        "outputId": "fa2182b7-173e-499b-c4e7-e822302d1fb9"
      },
      "outputs": [
        {
          "output_type": "display_data",
          "data": {
            "text/plain": [
              "<Figure size 640x480 with 1 Axes>"
            ],
            "image/png": "[encoded data removed]"
          },
          "metadata": {}
        },
        {
          "output_type": "stream",
          "name": "stdout",
          "text": [
            "plane car   frog  deer \n",
            "(3, 32, 32)\n"
          ]
        }
      ],
      "source": [
        "import matplotlib.pyplot as plt\n",
        "import numpy as np\n",
        "\n",
        "# functions to show an image\n",
        "\n",
        "\n",
        "def imshow(img):\n",
        "    img = img / 2 + 0.5     # unnormalize\n",
        "    npimg = img.numpy()\n",
        "    plt.imshow(np.transpose(npimg, (1, 2, 0)))\n",
        "    plt.show()\n",
        "\n",
        "\n",
        "# get some random training images\n",
        "dataiter = iter(cifar_trainloader)\n",
        "images, labels = next(dataiter)\n",
        "\n",
        "# show images\n",
        "imshow(torchvision.utils.make_grid(images))\n",
        "# print labels\n",
        "print(' '.join(f'{cifar_classes[labels[j]]:5s}' for j in range(batch_size)))\n",
        "print(images[0].numpy().shape)"
      ]
    },
    {
      "cell_type": "code",
      "execution_count": 4,
      "metadata": {
        "id": "AB3GMc6lA3t3"
      },
      "outputs": [],
      "source": [
        "import torch.nn as nn"
      ]
    },
    {
      "cell_type": "code",
      "execution_count": 89,
      "metadata": {
        "id": "r8d1heXEA4w3"
      },
      "outputs": [],
      "source": [
        "class ResidualBlock(nn.Module):\n",
        "    def __init__(self, inchannel, outchannel, downsample=None, stride=1):\n",
        "        super(ResidualBlock, self).__init__()\n",
        "        # print(\"--------------------------------\")\n",
        "        # print(f\"conv1 : {inchannel} to {outchannel}\")\n",
        "        self.conv1 = nn.Conv2d(inchannel, outchannel, kernel_size=3, padding = 1, stride=stride)\n",
        "        self.bn1 =  nn.BatchNorm2d(outchannel)\n",
        "\n",
        "        # print(\"--------------------------------\")\n",
        "        # print(f\"conv2 : {outchannel} to {outchannel}\")\n",
        "        self.conv2 =  nn.Conv2d(outchannel, outchannel, kernel_size=3, padding = 1, stride=1)\n",
        "        self.bn2 = nn.BatchNorm2d(outchannel)\n",
        "        # print(\"--------------------------------\")\n",
        "\n",
        "        self.relu = nn.ReLU(inplace=True) #activation function\n",
        "        self.stride = stride\n",
        "        self.downsample = downsample\n",
        "\n",
        "\n",
        "    def forward(self, x):\n",
        "        # print(self.downsample)\n",
        "        # print(x.shape)\n",
        "\n",
        "        identity = x\n",
        "\n",
        "        out = self.conv1(x)\n",
        "        out = self.bn1(out)\n",
        "        out = self.relu(out)\n",
        "\n",
        "        # print(out.shape)\n",
        "        out = self.conv2(out)\n",
        "        out = self.bn2(out)\n",
        "\n",
        "        if (self.downsample != None) :\n",
        "            # print(f\"I have downsample argument!\\n{self.downsample}\")\n",
        "            # print(f\"identity : {identity.shape}, out : {out.shape}\")\n",
        "            out = self.relu(out + (self.downsample(identity)))\n",
        "        else :\n",
        "            out = self.relu(out + identity)\n",
        "\n",
        "        return out"
      ]
    },
    {
      "cell_type": "code",
      "execution_count": 90,
      "metadata": {
        "id": "EETURELUA6QZ"
      },
      "outputs": [],
      "source": [
        "class ResNet(nn.Module):\n",
        "    def __init__(self, num_classes=10):\n",
        "        super(ResNet, self).__init__()\n",
        "        self.inchannel = 64\n",
        "        self.conv1 = nn.Sequential(\n",
        "            nn.Conv2d(3, 64, kernel_size=3, stride=1, padding=1, bias=False),\n",
        "            nn.BatchNorm2d(64),\n",
        "            nn.ReLU()\n",
        "        )\n",
        "        self.layer1_0 = ResidualBlock(inchannel=64, outchannel=64, stride=1)\n",
        "        self.layer1_1 = ResidualBlock(inchannel=64, outchannel=64, stride=1)\n",
        "\n",
        "        downsample_2 = nn.Sequential(\n",
        "            nn.Conv2d(64, 128, kernel_size=1, stride=2, bias=False),\n",
        "            nn.BatchNorm2d(128),\n",
        "        )\n",
        "        self.layer2_0 = ResidualBlock(inchannel=64, outchannel=128, downsample=downsample_2, stride=2)\n",
        "        self.layer2_1 = ResidualBlock(inchannel=128, outchannel=128, stride=1)\n",
        "\n",
        "        downsample_3 = nn.Sequential(\n",
        "            nn.Conv2d(128, 256, kernel_size=1, stride=2, bias=False),\n",
        "            nn.BatchNorm2d(256),\n",
        "        )\n",
        "        self.layer3_0 = ResidualBlock(inchannel=128, outchannel=256, downsample=downsample_3, stride=2)\n",
        "        self.layer3_1 = ResidualBlock(inchannel=256, outchannel=256, stride=1)\n",
        "\n",
        "        downsample_4 = nn.Sequential(\n",
        "            nn.Conv2d(256, 512, kernel_size=1, stride=2, bias=False),\n",
        "            nn.BatchNorm2d(512),\n",
        "        )\n",
        "        self.layer4_0 = ResidualBlock(inchannel=256, outchannel=512, downsample=downsample_4, stride=2)\n",
        "        self.layer4_1 = ResidualBlock(inchannel=512, outchannel=512, stride=1)\n",
        "\n",
        "        self.pool2d = nn.AdaptiveAvgPool2d(output_size=(1, 1))\n",
        "        self.fc = nn.Linear(512, num_classes)\n",
        "\n",
        "    def forward(self, x):\n",
        "        out = self.conv1(x)\n",
        "        out = self.layer1_0(out)\n",
        "        out = self.layer1_1(out)\n",
        "\n",
        "        out = self.layer2_0(out)\n",
        "        out = self.layer2_1(out)\n",
        "\n",
        "        out = self.layer3_0(out)\n",
        "        out = self.layer3_1(out)\n",
        "\n",
        "        out = self.layer4_0(out)\n",
        "        out = self.layer4_1(out)\n",
        "\n",
        "        out = self.pool2d(out)\n",
        "        out = out.view(out.size(0), -1)\n",
        "        out = self.fc(out)\n",
        "        return out"
      ]
    },
    {
      "cell_type": "code",
      "execution_count": 91,
      "metadata": {
        "id": "DaneqiwWA7vh"
      },
      "outputs": [],
      "source": [
        "net = ResNet().to('cuda')"
      ]
    },
    {
      "cell_type": "code",
      "execution_count": 92,
      "metadata": {
        "id": "weGGsSagA8vX"
      },
      "outputs": [],
      "source": [
        "import torch.optim as optim\n",
        "\n",
        "criterion = nn.CrossEntropyLoss()\n",
        "optimizer = optim.SGD(net.parameters(), lr=0.001, momentum=0.9)"
      ]
    },
    {
      "cell_type": "code",
      "execution_count": 93,
      "metadata": {
        "id": "HgZKcsseA-Fa",
        "colab": {
          "base_uri": "https://localhost:8080/"
        },
        "outputId": "4e427ec7-fb1b-4b18-82eb-1663e3f4e01b"
      },
      "outputs": [
        {
          "output_type": "stream",
          "name": "stdout",
          "text": [
            "[1,  2000] loss: 1.968\n",
            "[1,  4000] loss: 1.604\n",
            "[1,  6000] loss: 1.385\n",
            "[1,  8000] loss: 1.232\n",
            "[1, 10000] loss: 1.127\n",
            "[1, 12000] loss: 1.027\n",
            "[2,  2000] loss: 0.917\n",
            "[2,  4000] loss: 0.862\n",
            "[2,  6000] loss: 0.832\n",
            "[2,  8000] loss: 0.810\n",
            "[2, 10000] loss: 0.764\n",
            "[2, 12000] loss: 0.748\n",
            "Finished Training\n"
          ]
        }
      ],
      "source": [
        "for epoch in range(2):  # loop over the dataset multiple times\n",
        "\n",
        "    running_loss = 0.0\n",
        "    for i, data in enumerate(cifar_trainloader, 0):\n",
        "        # get the inputs; data is a list of [inputs, labels]\n",
        "        inputs, labels = data\n",
        "        inputs, labels = inputs.to('cuda'), labels.to('cuda')\n",
        "        # zero the parameter gradients\n",
        "        optimizer.zero_grad()\n",
        "\n",
        "        # forward + backward + optimize\n",
        "        outputs = net(inputs)\n",
        "        loss = criterion(outputs, labels)\n",
        "        loss.backward()\n",
        "        optimizer.step()\n",
        "\n",
        "        # print statistics\n",
        "        running_loss += loss.item()\n",
        "        if i % 2000 == 1999:    # print every 2000 mini-batches\n",
        "            print(f'[{epoch + 1}, {i + 1:5d}] loss: {running_loss / 2000:.3f}')\n",
        "            running_loss = 0.0\n",
        "\n",
        "print('Finished Training')"
      ]
    },
    {
      "cell_type": "code",
      "execution_count": 96,
      "metadata": {
        "id": "Op-7O2N3EcG0"
      },
      "outputs": [],
      "source": [
        "PATH = './cifar_resnet.pth'\n",
        "torch.save(net.state_dict(), PATH)"
      ]
    },
    {
      "cell_type": "code",
      "execution_count": 97,
      "metadata": {
        "id": "0vwltLNWEei8",
        "colab": {
          "base_uri": "https://localhost:8080/",
          "height": 211
        },
        "outputId": "999a7044-2165-4166-bcb6-4fa5a9791b49"
      },
      "outputs": [
        {
          "output_type": "display_data",
          "data": {
            "text/plain": [
              "<Figure size 640x480 with 1 Axes>"
            ],
            "image/png": "[encoded data removed]"
          },
          "metadata": {}
        },
        {
          "output_type": "stream",
          "name": "stdout",
          "text": [
            "GroundTruth:  cat   ship  ship  plane\n"
          ]
        }
      ],
      "source": [
        "dataiter = iter(cifar_testloader)\n",
        "images, labels = next(dataiter)\n",
        "\n",
        "# print images\n",
        "imshow(torchvision.utils.make_grid(images))\n",
        "print('GroundTruth: ', ' '.join(f'{cifar_classes[labels[j]]:5s}' for j in range(4)))"
      ]
    },
    {
      "cell_type": "code",
      "execution_count": 98,
      "metadata": {
        "id": "9lyM3OLSEffk",
        "colab": {
          "base_uri": "https://localhost:8080/"
        },
        "outputId": "a70d6cda-4521-4710-f6b7-4dfa4940067f"
      },
      "outputs": [
        {
          "output_type": "execute_result",
          "data": {
            "text/plain": [
              "<All keys matched successfully>"
            ]
          },
          "metadata": {},
          "execution_count": 98
        }
      ],
      "source": [
        "net = ResNet().to(\"cuda\")\n",
        "net.load_state_dict(torch.load(PATH))"
      ]
    },
    {
      "cell_type": "code",
      "execution_count": 100,
      "metadata": {
        "id": "ZGnPPNYmEjrL",
        "colab": {
          "base_uri": "https://localhost:8080/"
        },
        "outputId": "f78c85b4-c805-4933-fd00-d87ed3640e9a"
      },
      "outputs": [
        {
          "output_type": "stream",
          "name": "stdout",
          "text": [
            "Accuracy of the network on the 10000 test images: 71 %\n"
          ]
        }
      ],
      "source": [
        "correct = 0\n",
        "total = 0\n",
        "# since we're not training, we don't need to calculate the gradients for our outputs\n",
        "with torch.no_grad():\n",
        "    for data in cifar_testloader:\n",
        "        images, labels = data\n",
        "        images, labels = images.to(\"cuda\"), labels.to(\"cuda\")\n",
        "        # zero the parameter gradients\n",
        "        # calculate outputs by running images through the network\n",
        "        outputs = net(images)\n",
        "        # the class with the highest energy is what we choose as prediction\n",
        "        _, predicted = torch.max(outputs.data, 1)\n",
        "        total += labels.size(0)\n",
        "        correct += (predicted == labels).sum().item()\n",
        "\n",
        "print(f'Accuracy of the network on the 10000 test images: {100 * correct // total} %')"
      ]
    },
    {
      "cell_type": "code",
      "execution_count": 101,
      "metadata": {
        "id": "hhTrbu4XEoko",
        "colab": {
          "base_uri": "https://localhost:8080/"
        },
        "outputId": "a8f56bc5-5577-416f-8b37-63b2d71f1bd4"
      },
      "outputs": [
        {
          "output_type": "stream",
          "name": "stdout",
          "text": [
            "Accuracy for class: plane is 69.5 %\n",
            "Accuracy for class: car   is 82.4 %\n",
            "Accuracy for class: bird  is 59.9 %\n",
            "Accuracy for class: cat   is 55.6 %\n",
            "Accuracy for class: deer  is 67.7 %\n",
            "Accuracy for class: dog   is 55.5 %\n",
            "Accuracy for class: frog  is 93.9 %\n",
            "Accuracy for class: horse is 66.6 %\n",
            "Accuracy for class: ship  is 77.3 %\n",
            "Accuracy for class: truck is 88.8 %\n"
          ]
        }
      ],
      "source": [
        "# prepare to count predictions for each class\n",
        "correct_pred = {classname: 0 for classname in cifar_classes}\n",
        "total_pred = {classname: 0 for classname in cifar_classes}\n",
        "\n",
        "# again no gradients needed\n",
        "with torch.no_grad():\n",
        "    for data in cifar_testloader:\n",
        "        images, labels = data\n",
        "        images, labels = images.to(\"cuda\"), labels.to(\"cuda\")\n",
        "        outputs = net(images)\n",
        "        _, predictions = torch.max(outputs, 1)\n",
        "        # collect the correct predictions for each class\n",
        "        for label, prediction in zip(labels, predictions):\n",
        "            if label == prediction:\n",
        "                correct_pred[cifar_classes[label]] += 1\n",
        "            total_pred[cifar_classes[label]] += 1\n",
        "\n",
        "\n",
        "# print accuracy for each class\n",
        "for classname, correct_count in correct_pred.items():\n",
        "    accuracy = 100 * float(correct_count) / total_pred[classname]\n",
        "    print(f'Accuracy for class: {classname:5s} is {accuracy:.1f} %')"
      ]
    }
  ],
  "metadata": {
    "accelerator": "GPU",
    "colab": {
      "provenance": [],
      "gpuType": "T4"
    },
    "kernelspec": {
      "display_name": "Python 3",
      "name": "python3"
    },
    "language_info": {
      "codemirror_mode": {
        "name": "ipython",
        "version": 3
      },
      "file_extension": ".py",
      "mimetype": "text/x-python",
      "name": "python",
      "nbconvert_exporter": "python",
      "pygments_lexer": "ipython3",
      "version": "3.8.18"
    }
  },
  "nbformat": 4,
  "nbformat_minor": 0
}